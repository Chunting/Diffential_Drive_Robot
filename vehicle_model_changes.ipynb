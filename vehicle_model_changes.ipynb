{
 "cells": [
  {
   "cell_type": "code",
   "execution_count": 334,
   "metadata": {},
   "outputs": [
    {
     "name": "stdout",
     "output_type": "stream",
     "text": [
      "[11.5, 5.0, 1.0, 9.5, 5.0, 0.0]\n"
     ]
    }
   ],
   "source": [
    "import math  \n",
    "import matplotlib.pyplot as plt\n",
    "#state(x,y,theta of the adv and four trolleys)    \n",
    "def model(state,actuators):\n",
    "    d1=2\n",
    "    d2=2\n",
    "    d3=2\n",
    "    d4=2\n",
    "    dt=1\n",
    "    vr=2\n",
    "    vl=1\n",
    "    r=1\n",
    "    l=1\n",
    "    v=r/2*(vr+vl)\n",
    "    w=r/l*(vr-vl)\n",
    "    \n",
    "    new_state=[]\n",
    "    \n",
    "    x0=state[0]+v*dt*math.cos(state[2])\n",
    "    y0=state[1]+v*dt*math.sin(state[2])\n",
    "    t0=state[2]+w*dt\n",
    "    new_state.append(x0)\n",
    "    new_state.append(y0)\n",
    "    new_state.append(t0)\n",
    "    #print(new_state)\n",
    "    \n",
    "    \n",
    "    t1=state[5]+v/d1 * math.sin(state[2]-state[5])\n",
    "    #print(v/d1 * math.sin(state[5]-state[2]))\n",
    "    x1=new_state[0]-d1*math.cos(state[5])\n",
    "    y1=new_state[1]-d1*math.sin(state[5])\n",
    "    #t1=state[5]+actuators[0]/d1 * math.sin(state[5]-state[2])\n",
    "    #print(math.sin(state[2]-state[5]))\n",
    "    #print(t1)\n",
    "    new_state.append(x1)\n",
    "    new_state.append(y1)\n",
    "    new_state.append(t1)\n",
    "    #print(new_state)\n",
    "    \n",
    "    \n",
    "    return new_state\n",
    "    \n",
    "state=[10,5,0,8,5,0]\n",
    "actuators=[1,0]\n",
    "\n",
    "new_state= model(state,actuators)\n",
    "print(new_state)\n",
    "\n",
    "\n",
    "\n",
    "\n"
   ]
  },
  {
   "cell_type": "code",
   "execution_count": 335,
   "metadata": {},
   "outputs": [
    {
     "name": "stdout",
     "output_type": "stream",
     "text": [
      "[11.5, 5.0, 1.0, 9.5, 5.0, 0.0]\n"
     ]
    },
    {
     "data": {
      "image/png": "[encoded data removed]",
      "text/plain": [
       "<Figure size 432x288 with 1 Axes>"
      ]
     },
     "metadata": {},
     "output_type": "display_data"
    },
    {
     "name": "stdout",
     "output_type": "stream",
     "text": [
      "[12.31045345880221, 6.262206477211844, 2.0, 10.31045345880221, 6.262206477211844, 0.6311032386059223]\n"
     ]
    },
    {
     "data": {
      "image/png": "[encoded data removed]",
      "text/plain": [
       "<Figure size 432x288 with 1 Axes>"
      ]
     },
     "metadata": {},
     "output_type": "display_data"
    },
    {
     "name": "stdout",
     "output_type": "stream",
     "text": [
      "[11.686233203981496, 7.626152617450367, 3.0, 10.071479105055172, 6.446080924712744, 1.3658688069589928]\n"
     ]
    },
    {
     "data": {
      "image/png": "[encoded data removed]",
      "text/plain": [
       "<Figure size 432x288 with 1 Axes>"
      ]
     },
     "metadata": {},
     "output_type": "display_data"
    },
    {
     "name": "stdout",
     "output_type": "stream",
     "text": [
      "[10.201244459080828, 7.837832629540167, 4.0, 9.794252065342198, 5.879681156482247, 2.114365070241174]\n"
     ]
    },
    {
     "data": {
      "image/png": "[encoded data removed]",
      "text/plain": [
       "<Figure size 432x288 with 1 Axes>"
      ]
     },
     "metadata": {},
     "output_type": "display_data"
    }
   ],
   "source": [
    "print(new_state)\n",
    "lst1=[new_state[0],new_state[3]]\n",
    "lst2=[new_state[1],new_state[4]]\n",
    "plt.subplot(221)\n",
    "plt.plot(lst1, lst2, 'ro')\n",
    "plt.axis([0, 30, 0, 30])\n",
    "plt.show()\n",
    "\n",
    "new_state1= model(new_state,actuators)\n",
    "lst11=[new_state1[0],new_state1[3]]\n",
    "lst21=[new_state1[1],new_state1[4]]\n",
    "print(new_state1)\n",
    "plt.subplot(222)\n",
    "plt.plot(lst11, lst21, 'ro')\n",
    "plt.axis([0, 30, 0, 30])\n",
    "plt.show()\n",
    "\n",
    "new_state2= model(new_state1,actuators)\n",
    "lst12=[new_state2[0],new_state2[3]]\n",
    "lst22=[new_state2[1],new_state2[4]]\n",
    "print(new_state2)\n",
    "plt.subplot(223)\n",
    "plt.plot(lst12, lst22, 'ro')\n",
    "plt.axis([0, 30, 0, 30])\n",
    "plt.show()\n",
    "\n",
    "new_state3= model(new_state2,actuators)\n",
    "lst13=[new_state3[0],new_state3[3]]\n",
    "lst23=[new_state3[1],new_state3[4]]\n",
    "print(new_state3)\n",
    "plt.subplot(224)\n",
    "plt.plot(lst13, lst23, 'ro')\n",
    "plt.axis([0, 30, 0, 30])\n",
    "plt.show()\n",
    "\n",
    "\n"
   ]
  },
  {
   "cell_type": "code",
   "execution_count": 336,
   "metadata": {},
   "outputs": [
    {
     "name": "stdout",
     "output_type": "stream",
     "text": [
      "[12.31045345880221, 6.262206477211844, 2.0, 10.31045345880221, 6.262206477211844, 0.6311032386059223]\n"
     ]
    }
   ],
   "source": [
    "new_state1= model(new_state,actuators)\n",
    "print(new_state1)\n",
    "\n"
   ]
  },
  {
   "cell_type": "code",
   "execution_count": 307,
   "metadata": {},
   "outputs": [
    {
     "data": {
      "image/png": "[encoded data removed]",
      "text/plain": [
       "<Figure size 432x288 with 1 Axes>"
      ]
     },
     "metadata": {},
     "output_type": "display_data"
    }
   ],
   "source": [
    "import matplotlib.pyplot as plt\n",
    "lst1=[new_state1[0],new_state1[3]]\n",
    "lst2=[new_state1[1],new_state1[4]]\n",
    "\n",
    "plt.plot(lst1, lst2, 'ro')\n",
    "plt.axis([0, 30, 0, 30])\n",
    "plt.show()"
   ]
  },
  {
   "cell_type": "code",
   "execution_count": 308,
   "metadata": {},
   "outputs": [
    {
     "name": "stdout",
     "output_type": "stream",
     "text": [
      "[11.5, 5.0, 0.0, 9.5, 5.0, 0.0]\n"
     ]
    }
   ],
   "source": [
    "new_state2=model(new_state1,actuators)\n",
    "print(new_state2)\n",
    "\n"
   ]
  },
  {
   "cell_type": "code",
   "execution_count": 309,
   "metadata": {},
   "outputs": [
    {
     "data": {
      "image/png": "[encoded data removed]",
      "text/plain": [
       "<Figure size 432x288 with 1 Axes>"
      ]
     },
     "metadata": {},
     "output_type": "display_data"
    }
   ],
   "source": [
    "import matplotlib.pyplot as plt\n",
    "lst1=[new_state2[0],new_state2[3]]\n",
    "lst2=[new_state2[1],new_state2[4]]\n",
    "\n",
    "plt.plot(lst1, lst2, 'ro')\n",
    "plt.axis([0, 30, 0, 30])\n",
    "plt.show()"
   ]
  },
  {
   "cell_type": "code",
   "execution_count": 310,
   "metadata": {},
   "outputs": [
    {
     "name": "stdout",
     "output_type": "stream",
     "text": [
      "[12.0, 5.0, 0.0, 10.0, 5.0, 0.0]\n"
     ]
    }
   ],
   "source": [
    "new_state3=model(new_state2,actuators)\n",
    "print(new_state3)\n",
    "\n"
   ]
  },
  {
   "cell_type": "code",
   "execution_count": 311,
   "metadata": {},
   "outputs": [
    {
     "data": {
      "image/png": "[encoded data removed]",
      "text/plain": [
       "<Figure size 432x288 with 1 Axes>"
      ]
     },
     "metadata": {},
     "output_type": "display_data"
    }
   ],
   "source": [
    "import matplotlib.pyplot as plt\n",
    "lst1=[new_state3[0],new_state3[3]]\n",
    "lst2=[new_state3[1],new_state3[4]]\n",
    "\n",
    "plt.plot(lst1, lst2, 'ro')\n",
    "plt.axis([0, 30, 0, 30])\n",
    "plt.show()"
   ]
  },
  {
   "cell_type": "code",
   "execution_count": 312,
   "metadata": {},
   "outputs": [
    {
     "name": "stdout",
     "output_type": "stream",
     "text": [
      "[12.5, 5.0, 0.0, 10.5, 5.0, 0.0]\n"
     ]
    }
   ],
   "source": [
    "new_state4=model(new_state3,actuators)\n",
    "print(new_state4)\n"
   ]
  },
  {
   "cell_type": "code",
   "execution_count": 313,
   "metadata": {},
   "outputs": [
    {
     "data": {
      "image/png": "[encoded data removed]",
      "text/plain": [
       "<Figure size 432x288 with 1 Axes>"
      ]
     },
     "metadata": {},
     "output_type": "display_data"
    }
   ],
   "source": [
    "import matplotlib.pyplot as plt\n",
    "lst1=[new_state4[0],new_state4[3]]\n",
    "lst2=[new_state4[1],new_state4[4]]\n",
    "\n",
    "plt.plot(lst1, lst2, 'ro')\n",
    "plt.axis([0, 30, 0, 30])\n",
    "plt.show()"
   ]
  },
  {
   "cell_type": "code",
   "execution_count": null,
   "metadata": {},
   "outputs": [],
   "source": []
  },
  {
   "cell_type": "code",
   "execution_count": null,
   "metadata": {},
   "outputs": [],
   "source": []
  },
  {
   "cell_type": "code",
   "execution_count": null,
   "metadata": {},
   "outputs": [],
   "source": []
  },
  {
   "cell_type": "code",
   "execution_count": null,
   "metadata": {},
   "outputs": [],
   "source": []
  }
 ],
 "metadata": {
  "kernelspec": {
   "display_name": "Python 3",
   "language": "python",
   "name": "python3"
  },
  "language_info": {
   "codemirror_mode": {
    "name": "ipython",
    "version": 3
   },
   "file_extension": ".py",
   "mimetype": "text/x-python",
   "name": "python",
   "nbconvert_exporter": "python",
   "pygments_lexer": "ipython3",
   "version": "3.6.5"
  }
 },
 "nbformat": 4,
 "nbformat_minor": 2
}
